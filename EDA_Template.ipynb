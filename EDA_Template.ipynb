{
 "cells": [
  {
   "cell_type": "markdown",
   "id": "8a8e6fbe",
   "metadata": {},
   "source": [
    "# Exploratory Data Analysis Template\n",
    "## Pull data, explore and understand data, basic visualization of data, and prepare for machine learning "
   ]
  },
  {
   "cell_type": "markdown",
   "id": "2330a613",
   "metadata": {},
   "source": [
    "## Step 1: import libraries and pull data"
   ]
  },
  {
   "cell_type": "code",
   "execution_count": 3,
   "id": "233dff0f",
   "metadata": {},
   "outputs": [],
   "source": [
    "import pandas as pd\n",
    "import numpy as np\n",
    "import seaborn as sns\n",
    "import matplotlib.pyplot as plt\n",
    "import os\n",
    "\n",
    "os.chdir(\"C:\\\\Users\\\\Family PC\\\\Desktop\\\\pythonfiles\\\\EDA_Template\")\n",
    "\n",
    "pd.set_option('display.max_columns', None)\n",
    "pd.set_option('display.max_rows', None)"
   ]
  },
  {
   "cell_type": "markdown",
   "id": "ac28b455",
   "metadata": {},
   "source": [
    "## Step 2: Load data into df from csv or excel"
   ]
  },
  {
   "cell_type": "code",
   "execution_count": null,
   "id": "9fde1337",
   "metadata": {},
   "outputs": [],
   "source": [
    "df = pd.read_csv('data.csv')\n",
    "df = pd.read_excel('data.xlsx')"
   ]
  },
  {
   "cell_type": "markdown",
   "id": "6878bf72",
   "metadata": {},
   "source": [
    "## Step 3: Basic exploration of data"
   ]
  },
  {
   "cell_type": "code",
   "execution_count": null,
   "id": "c33a63ce",
   "metadata": {},
   "outputs": [],
   "source": [
    "df.head()\n",
    "df.columns\n",
    "df.datatypes\n",
    "df.shape\n",
    "df.describe().transpose()\n",
    "df.info()"
   ]
  },
  {
   "cell_type": "markdown",
   "id": "0c2586f8",
   "metadata": {},
   "source": [
    "## Step 4: Name columns if necessary and transform data types as needed"
   ]
  },
  {
   "cell_type": "code",
   "execution_count": null,
   "id": "4f8cf075",
   "metadata": {},
   "outputs": [],
   "source": [
    "cols = ['a', 'b', 'c', 'd']\n",
    "\n",
    "df[cols] = df[cols].apply(pd.to_numeric, errors='coerce', axis=1)"
   ]
  },
  {
   "cell_type": "markdown",
   "id": "9403004c",
   "metadata": {},
   "source": [
    "## Step 5: Handle missing values"
   ]
  },
  {
   "cell_type": "code",
   "execution_count": null,
   "id": "2a1b6433",
   "metadata": {},
   "outputs": [],
   "source": [
    "df.isnull().sum()\n",
    "\n",
    "df.dropna() # Todrop rows with missing values\n",
    "\n",
    "df.fillna(value) # To fill missing values with a specificvalue"
   ]
  },
  {
   "cell_type": "markdown",
   "id": "caaf97c6",
   "metadata": {},
   "source": [
    "   ## Step 6: Handle duplicates"
   ]
  },
  {
   "cell_type": "code",
   "execution_count": null,
   "id": "24ab0b48",
   "metadata": {},
   "outputs": [],
   "source": [
    "df.duplicated().sum()\n",
    "\n",
    "df.drop_duplicates()"
   ]
  },
  {
   "cell_type": "markdown",
   "id": "aa3f590d",
   "metadata": {},
   "source": [
    "## Step 7: Handle outliers"
   ]
  },
  {
   "cell_type": "code",
   "execution_count": null,
   "id": "2b1c9602",
   "metadata": {},
   "outputs": [],
   "source": [
    "q1 = df['column'].quantile(0.25)\n",
    "\n",
    "q3 = df['column'].quantile(0.75)\n",
    "\n",
    "iqr = q3 - q1\n",
    "\n",
    "upper_bound = q3 + 1.5 * iqr\n",
    "\n",
    "lower_bound = q1 - 1.5 * iqr\n",
    "\n",
    "df = df[(df['column'] > lower_bound) & (df['column'] < upper_bound)]"
   ]
  },
  {
   "cell_type": "markdown",
   "id": "0b866c44",
   "metadata": {},
   "source": [
    "## Step 8: Basic visualization of the data"
   ]
  },
  {
   "cell_type": "code",
   "execution_count": null,
   "id": "9564cdac",
   "metadata": {},
   "outputs": [],
   "source": [
    "sns.pairplot(df) \n",
    "\n",
    "sns.distplot(df['column'])\n",
    "\n",
    "sns.boxplot(df['column']) "
   ]
  },
  {
   "cell_type": "markdown",
   "id": "a33f15a8",
   "metadata": {},
   "source": [
    "## Step 9: Investigate relationships between variables"
   ]
  },
  {
   "cell_type": "code",
   "execution_count": null,
   "id": "2807db23",
   "metadata": {},
   "outputs": [],
   "source": [
    "df.corr() \n",
    "\n",
    "sns.heatmap(df.corr())\n",
    "\n",
    "sns.scatterplot(x='column1', y='column2', data=df)"
   ]
  },
  {
   "cell_type": "markdown",
   "id": "4334972c",
   "metadata": {},
   "source": [
    "## Step 10: Create new features as needed and drop unneeded columns"
   ]
  },
  {
   "cell_type": "code",
   "execution_count": null,
   "id": "9902fa8c",
   "metadata": {},
   "outputs": [],
   "source": [
    "df['new_column'] = df['column1'] + df['column2']\n",
    "\n",
    "df.drop(columns=['column'])"
   ]
  },
  {
   "cell_type": "markdown",
   "id": "54667f4b",
   "metadata": {},
   "source": [
    "## Step 11: Prepare data for modeling"
   ]
  },
  {
   "cell_type": "code",
   "execution_count": null,
   "id": "658023db",
   "metadata": {},
   "outputs": [],
   "source": [
    "X = df.drop(columns=['feature'])\n",
    "\n",
    "y = df['target'] "
   ]
  }
 ],
 "metadata": {
  "kernelspec": {
   "display_name": "Python 3 (ipykernel)",
   "language": "python",
   "name": "python3"
  },
  "language_info": {
   "codemirror_mode": {
    "name": "ipython",
    "version": 3
   },
   "file_extension": ".py",
   "mimetype": "text/x-python",
   "name": "python",
   "nbconvert_exporter": "python",
   "pygments_lexer": "ipython3",
   "version": "3.9.16"
  }
 },
 "nbformat": 4,
 "nbformat_minor": 5
}
